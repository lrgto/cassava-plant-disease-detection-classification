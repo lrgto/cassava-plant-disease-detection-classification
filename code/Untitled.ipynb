{
 "cells": [
  {
   "cell_type": "code",
   "execution_count": 1,
   "id": "b643fee1-7f4d-4868-9817-4be21433199d",
   "metadata": {},
   "outputs": [],
   "source": [
    "#careful, this deletes Cassava folder\n",
    "import shutil\n",
    "shutil.rmtree('Cassava/')"
   ]
  },
  {
   "cell_type": "code",
   "execution_count": 2,
   "id": "5f6f78ea-f9b9-4cb8-89d9-704fd10cb5c3",
   "metadata": {},
   "outputs": [
    {
     "name": "stdout",
     "output_type": "stream",
     "text": [
      "done\n"
     ]
    }
   ],
   "source": [
    "import zipfile\n",
    "archive = 'Cassava_plant_disease_-_Uniform.zip'\n",
    "dirTo = 'Cassava/'\n",
    "with zipfile.ZipFile(archive, 'r') as zip_ref:\n",
    "    zip_ref.extractall(dirTo)\n",
    "print('done')"
   ]
  },
  {
   "cell_type": "code",
   "execution_count": null,
   "id": "8a4a1196-b846-405e-9a8a-910df2ee81c3",
   "metadata": {},
   "outputs": [],
   "source": [
    "import os\n",
    "import shutil\n",
    "\n",
    "def moveTest(files):\n",
    "    srcpath = 'Cassava/utrain_images/'\n",
    "    destpath = 'Cassava/utrain_test/'\n",
    "    if(not os.path.exists(destpath)):\n",
    "        os.makedirs(destpath)\n",
    "    for file in files:\n",
    "        try:\n",
    "            #print(file)\n",
    "            shutil.move(srcpath+file, destpath+file)\n",
    "        except FileNotFoundError:\n",
    "            if os.path.exists(destpath+file):\n",
    "                #file already moved, can be ignored\n",
    "                #print(file+' already moved')\n",
    "                continue\n",
    "            else:\n",
    "                print('could not find '+file)\n",
    "                continue"
   ]
  },
  {
   "cell_type": "code",
   "execution_count": 4,
   "id": "12626771-0a78-4fca-9b2b-f8c80f448223",
   "metadata": {},
   "outputs": [
    {
     "data": {
      "text/plain": [
       "5435         314170345.jpg\n",
       "5436         782115033.jpg\n",
       "5437         362012495.jpg\n",
       "5438        2669409913.jpg\n",
       "5439    train-cmd-1620.jpg\n",
       "               ...        \n",
       "6207     train-cmd-381.jpg\n",
       "6208        2084909272.jpg\n",
       "6209         252899909.jpg\n",
       "6210         547270823.jpg\n",
       "6211        1225715359.jpg\n",
       "Name: image_id, Length: 777, dtype: object"
      ]
     },
     "execution_count": 4,
     "metadata": {},
     "output_type": "execute_result"
    }
   ],
   "source": [
    "import pandas\n",
    "labels = pandas.read_csv(dirTo+'utrain.csv')\n",
    "labels\n",
    "#Classes are :\n",
    "#0: 'Cassava Bacterial Blight (CBB)',\n",
    "#1: 'Cassava Brown Streak Disease (CBSD)',\n",
    "#2: 'Cassava Green Mottle (CGM)',\n",
    "#3: 'Cassava Mosaic Disease (CMD)',\n",
    "#4: 'Healthy'\n",
    "CBB = labels.loc[labels['labels'] == 0]\n",
    "CBSD = labels.loc[labels['labels'] == 1]\n",
    "CGM = labels.loc[labels['labels'] == 2]\n",
    "CMD = labels.loc[labels['labels'] == 3]\n",
    "HEALTHY = labels.loc[labels['labels'] == 4]\n",
    "\n",
    "CBB_train = CBB.iloc[:round(len(CBB)/2),:]\n",
    "CBB_test = CBB.iloc[round(len(CBB)/2):,:]\n",
    "CBSD_train = CBSD.iloc[:round(len(CBSD)/2),:]\n",
    "CBSD_test = CBSD.iloc[round(len(CBSD)/2):,:]\n",
    "CGM_train = CGM.iloc[:round(len(CGM)/2),:]\n",
    "CGM_test = CGM.iloc[round(len(CGM)/2):,:]\n",
    "CMD_train = CMD.iloc[:round(len(CMD)/2),:]\n",
    "CMD_test = CMD.iloc[round(len(CMD)/2):,:]\n",
    "HEALTHY_train = HEALTHY.iloc[:round(len(HEALTHY)/2),:]\n",
    "HEALTHY_test = HEALTHY.iloc[round(len(HEALTHY)/2):,:]\n",
    "moveTest(CBB_test.loc[:,\"image_id\"])\n",
    "moveTest(CBSD_test.loc[:,\"image_id\"])\n",
    "moveTest(CGM_test.loc[:,\"image_id\"])\n",
    "moveTest(CMD_test.loc[:,\"image_id\"])\n",
    "moveTest(HEALTHY_test.loc[:,\"image_id\"])"
   ]
  },
  {
   "cell_type": "code",
   "execution_count": 37,
   "id": "c4b0069b-14d0-4486-a6af-feab1cb63a0e",
   "metadata": {},
   "outputs": [
    {
     "name": "stdout",
     "output_type": "stream",
     "text": [
      "\n"
     ]
    },
    {
     "data": {
      "text/plain": [
       "3880"
      ]
     },
     "execution_count": 37,
     "metadata": {},
     "output_type": "execute_result"
    }
   ],
   "source": [
    "#setup label + data for learning\n",
    "train_data = []\n",
    "train_labels = []\n",
    "test_data = []\n",
    "test_labels = []\n",
    "#train\n",
    "get_data(train_data, CBB_train.loc[:,\"image_id\"], train_labels, CBB_train.loc[:,\"labels\"])\n",
    "get_data(train_data, CBSD_train.loc[:,\"image_id\"], train_labels, CBSD_train.loc[:,\"labels\"])\n",
    "get_data(train_data, CGM_train.loc[:,\"image_id\"], train_labels, CGM_train.loc[:,\"labels\"])\n",
    "get_data(train_data, CMD_train.loc[:,\"image_id\"], train_labels, CMD_train.loc[:,\"labels\"])\n",
    "get_data(train_data, HEALTHY_train.loc[:,\"image_id\"], train_labels, HEALTHY_train.loc[:,\"labels\"])\n",
    "#test\n",
    "get_data(test_data, CBB_test.loc[:,\"image_id\"], test_labels, CBB_test.loc[:,\"labels\"])\n",
    "get_data(test_data, CBSD_test.loc[:,\"image_id\"], test_labels, CBSD_test.loc[:,\"labels\"])\n",
    "get_data(test_data, CGM_test.loc[:,\"image_id\"], test_labels, CGM_test.loc[:,\"labels\"])\n",
    "get_data(test_data, CMD_test.loc[:,\"image_id\"], test_labels, CMD_test.loc[:,\"labels\"])\n",
    "get_data(test_data, HEALTHY_test.loc[:,\"image_id\"], test_labels, HEALTHY_test.loc[:,\"labels\"])\n",
    "print()"
   ]
  },
  {
   "cell_type": "code",
   "execution_count": 32,
   "id": "c2716876-06a9-4d8b-8549-0f00df2139d1",
   "metadata": {},
   "outputs": [],
   "source": [
    "def readImage(file):\n",
    "    return [file]\n",
    "\n",
    "def get_data(data, files, labels, label):\n",
    "    for file in files:\n",
    "        #need to change to actual image data\n",
    "        data.append(file)\n",
    "        labels.append(label)\n",
    "    return data"
   ]
  },
  {
   "cell_type": "code",
   "execution_count": null,
   "id": "078b4e52-bea6-46d6-9ff0-2d73ce951bcb",
   "metadata": {},
   "outputs": [],
   "source": []
  }
 ],
 "metadata": {
  "kernelspec": {
   "display_name": "Python 3 (ipykernel)",
   "language": "python",
   "name": "python3"
  },
  "language_info": {
   "codemirror_mode": {
    "name": "ipython",
    "version": 3
   },
   "file_extension": ".py",
   "mimetype": "text/x-python",
   "name": "python",
   "nbconvert_exporter": "python",
   "pygments_lexer": "ipython3",
   "version": "3.9.7"
  }
 },
 "nbformat": 4,
 "nbformat_minor": 5
}
